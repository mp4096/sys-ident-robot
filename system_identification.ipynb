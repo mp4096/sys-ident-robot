{
 "cells": [
  {
   "cell_type": "code",
   "execution_count": 1,
   "metadata": {
    "collapsed": true
   },
   "outputs": [],
   "source": [
    "import numpy as np\n",
    "import matplotlib.pyplot as plt\n",
    "from skopt import gp_minimize"
   ]
  },
  {
   "cell_type": "markdown",
   "metadata": {},
   "source": [
    "Given is the following transfer function:\n",
    "\n",
    "$$\n",
    "    H(s) = \\frac{K}{s (T s + 1)}\n",
    "$$\n",
    "\n",
    "Its step response in time domain is given by\n",
    "\n",
    "$$\n",
    "    g(t) = K T (e^{-\\frac{1}{T} t} - 1) + K t\n",
    "$$"
   ]
  },
  {
   "cell_type": "code",
   "execution_count": 2,
   "metadata": {
    "collapsed": true
   },
   "outputs": [],
   "source": [
    "def exact_step_response(K, T):\n",
    "    return lambda t: K*T*(np.exp(-t/T) - 1) + K*t"
   ]
  },
  {
   "cell_type": "code",
   "execution_count": 3,
   "metadata": {},
   "outputs": [
    {
     "data": {
      "image/png": "[encoded data removed]",
      "text/plain": [
       "<matplotlib.figure.Figure at 0x7f09df10fbe0>"
      ]
     },
     "metadata": {},
     "output_type": "display_data"
    }
   ],
   "source": [
    "fun = exact_step_response(1.0, 1.0)\n",
    "\n",
    "t = np.linspace(0.0, 1.0, 1000)\n",
    "y = fun(t)\n",
    "\n",
    "\n",
    "plt.plot(t, y)\n",
    "plt.show()"
   ]
  }
 ],
 "metadata": {
  "kernelspec": {
   "display_name": "Python 3",
   "language": "python",
   "name": "python3"
  },
  "language_info": {
   "codemirror_mode": {
    "name": "ipython",
    "version": 3
   },
   "file_extension": ".py",
   "mimetype": "text/x-python",
   "name": "python",
   "nbconvert_exporter": "python",
   "pygments_lexer": "ipython3",
   "version": "3.6.1"
  }
 },
 "nbformat": 4,
 "nbformat_minor": 2
}
