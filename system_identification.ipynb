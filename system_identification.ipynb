{
 "cells": [
  {
   "cell_type": "code",
   "execution_count": null,
   "metadata": {},
   "outputs": [],
   "source": [
    "import fnmatch\n",
    "import matplotlib.pyplot as plt\n",
    "import numpy as np\n",
    "import os\n",
    "import pandas as pd\n",
    "from skopt import gbrt_minimize\n",
    "from skopt.plots import plot_evaluations, plot_objective\n",
    "\n",
    "%matplotlib inline\n",
    "%config InlineBackend.figure_format = 'retina'\n",
    "\n",
    "np.random.seed(777)"
   ]
  },
  {
   "cell_type": "code",
   "execution_count": null,
   "metadata": {
    "collapsed": true
   },
   "outputs": [],
   "source": [
    "def load_data(filename, time_step=0.1):\n",
    "    df = pd.read_csv(filename, dtype=np.float64)\n",
    "    t = np.cumsum(np.ones((df.shape[0],))*time_step) - time_step\n",
    "    left = df.left[0] - df.left\n",
    "    right = df.right[0] - df.right\n",
    "    return t, left, right"
   ]
  },
  {
   "cell_type": "code",
   "execution_count": null,
   "metadata": {
    "collapsed": true
   },
   "outputs": [],
   "source": [
    "def find_data():\n",
    "    for root, dirs, files in os.walk(\"./data/\"):\n",
    "        for basename in files:\n",
    "            if fnmatch.fnmatch(basename, \"data*.csv\"):\n",
    "                yield os.path.join(root, basename)"
   ]
  },
  {
   "cell_type": "markdown",
   "metadata": {},
   "source": [
    "Given is the following transfer function:\n",
    "\n",
    "$$\n",
    "    H(s) = \\frac{K}{s (T s + 1)}\n",
    "$$\n",
    "\n",
    "Its step response in time domain is given by\n",
    "\n",
    "$$\n",
    "    g(t) = K T (e^{-\\frac{1}{T} t} - 1) + K t\n",
    "$$"
   ]
  },
  {
   "cell_type": "code",
   "execution_count": null,
   "metadata": {
    "collapsed": true
   },
   "outputs": [],
   "source": [
    "def exact_step_response(K, T):\n",
    "    return lambda t: K*T*(np.exp(-t/T) - 1.0) + K*t"
   ]
  },
  {
   "cell_type": "code",
   "execution_count": null,
   "metadata": {
    "collapsed": true
   },
   "outputs": [],
   "source": [
    "def simple_cost(t, y, kappa, K, T):\n",
    "    model = K*T*(np.exp(-t/T) - 1.0) + K*t\n",
    "    sq_e = np.square(y - model*kappa)\n",
    "    return np.sqrt(np.mean(sq_e))"
   ]
  },
  {
   "cell_type": "code",
   "execution_count": null,
   "metadata": {
    "collapsed": true
   },
   "outputs": [],
   "source": [
    "def cost_fun(x):\n",
    "    cost = 0.0\n",
    "    kappa = 50.0\n",
    "    for filename in find_data():\n",
    "        t, l, r = load_data(filename)\n",
    "        cost += simple_cost(t, l, kappa, x[0], x[1])\n",
    "        cost += simple_cost(t, r, kappa, x[0], x[1])\n",
    "    return cost"
   ]
  },
  {
   "cell_type": "code",
   "execution_count": null,
   "metadata": {},
   "outputs": [],
   "source": [
    "%%time\n",
    "\n",
    "res = gbrt_minimize(\n",
    "    cost_fun, \n",
    "    [(1.2, 2.2), (0.1, 2.0)], \n",
    "    n_calls=1000,\n",
    "    )"
   ]
  },
  {
   "cell_type": "code",
   "execution_count": null,
   "metadata": {},
   "outputs": [],
   "source": [
    "_ = plot_evaluations(res)\n",
    "_ = plot_objective(res)"
   ]
  },
  {
   "cell_type": "code",
   "execution_count": null,
   "metadata": {},
   "outputs": [],
   "source": [
    "res.x"
   ]
  },
  {
   "cell_type": "code",
   "execution_count": null,
   "metadata": {},
   "outputs": [],
   "source": [
    "plt.figure(figsize=(12, 8))\n",
    "for filename in find_data():\n",
    "    t, l, r = load_data(filename)\n",
    "    plt.plot(t, l, c=\"b\", alpha=0.2)\n",
    "    plt.plot(t, r, c=\"r\", alpha=0.2)\n",
    "    \n",
    "t = np.linspace(0.0, 12.0, 500)\n",
    "fun = exact_step_response(res.x[0], res.x[1])\n",
    "plt.plot(t, fun(t)*50.0, c=\"k\")\n",
    "plt.show()"
   ]
  }
 ],
 "metadata": {
  "kernelspec": {
   "display_name": "Python 3",
   "language": "python",
   "name": "python3"
  },
  "language_info": {
   "codemirror_mode": {
    "name": "ipython",
    "version": 3
   },
   "file_extension": ".py",
   "mimetype": "text/x-python",
   "name": "python",
   "nbconvert_exporter": "python",
   "pygments_lexer": "ipython3",
   "version": "3.6.1"
  }
 },
 "nbformat": 4,
 "nbformat_minor": 2
}
